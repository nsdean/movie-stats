{
 "cells": [
  {
   "cell_type": "markdown",
   "metadata": {},
   "source": [
    "API docs available here: https://developers.themoviedb.org/3"
   ]
  },
  {
   "cell_type": "code",
   "execution_count": null,
   "metadata": {},
   "outputs": [],
   "source": [
    "# TODO\n"
   ]
  },
  {
   "cell_type": "markdown",
   "metadata": {},
   "source": [
    "# Initialise"
   ]
  },
  {
   "cell_type": "code",
   "execution_count": 1,
   "metadata": {},
   "outputs": [],
   "source": [
    "import pandas as pd\n",
    "import requests\n",
    "import numpy as np\n",
    "import config\n",
    "api_key = config.api_key\n",
    "\n",
    "import dill\n",
    "import plotly.express as px\n",
    "import cpi\n",
    "# cpi.update()\n",
    "%config InlineBackend.figure_format ='retina'"
   ]
  },
  {
   "cell_type": "code",
   "execution_count": 2,
   "metadata": {},
   "outputs": [],
   "source": [
    "%%capture\n",
    "from tqdm import tqdm_notebook as tqdm\n",
    "tqdm().pandas()"
   ]
  },
  {
   "cell_type": "code",
   "execution_count": null,
   "metadata": {
    "scrolled": true
   },
   "outputs": [],
   "source": [
    "# Request for a specific movie:\n",
    "# requests.get('https://api.themoviedb.org/3/movie/'\n",
    "#                                + '10994' \n",
    "#                                + '?api_key=' + api_key\n",
    "#                                + '&language=en-US').json()"
   ]
  },
  {
   "cell_type": "code",
   "execution_count": 199,
   "metadata": {},
   "outputs": [],
   "source": [
    "import movies"
   ]
  },
  {
   "cell_type": "code",
   "execution_count": 203,
   "metadata": {},
   "outputs": [],
   "source": [
    "import importlib"
   ]
  },
  {
   "cell_type": "code",
   "execution_count": 220,
   "metadata": {
    "scrolled": true
   },
   "outputs": [
    {
     "data": {
      "text/plain": [
       "<module 'movies' from '/Users/nickydean83/Google Drive/Analytics/movie-stats/movies.py'>"
      ]
     },
     "execution_count": 220,
     "metadata": {},
     "output_type": "execute_result"
    }
   ],
   "source": [
    "importlib.reload(movies)"
   ]
  },
  {
   "cell_type": "markdown",
   "metadata": {},
   "source": [
    "# Compare Scorsese to the Coen Bros"
   ]
  },
  {
   "cell_type": "markdown",
   "metadata": {},
   "source": [
    "Find the person codes for Martin Scorsese and the Coen brothers. We'll use Ethan, just because we need one of them."
   ]
  },
  {
   "cell_type": "code",
   "execution_count": null,
   "metadata": {
    "scrolled": true
   },
   "outputs": [],
   "source": [
    "response = requests.get('https://api.themoviedb.org/3/search/person?api_key=' \n",
    "                            +  api_key \n",
    "                            + '&include_adult=false' # filter out adult films\n",
    "                            + '&language=en-US'\n",
    "                            + '&query=ethan%coen'\n",
    "                           ).json()\n",
    "response"
   ]
  },
  {
   "cell_type": "code",
   "execution_count": null,
   "metadata": {},
   "outputs": [],
   "source": [
    "directors = {'scorsese': '1032',\n",
    "             'coen': '1224'}"
   ]
  },
  {
   "cell_type": "markdown",
   "metadata": {},
   "source": [
    "## Martin Scorsese data"
   ]
  },
  {
   "cell_type": "code",
   "execution_count": null,
   "metadata": {},
   "outputs": [],
   "source": [
    "def director_request(director):\n",
    "    response = requests.get('https://api.themoviedb.org/3/person/'\n",
    "                            + director + '/'\n",
    "                            + 'movie_credits/'        \n",
    "                            + '?api_key=' + api_key\n",
    "                            + '&language=en-US')\n",
    "    \n",
    "    director_df = pd.DataFrame((response.json())['crew']) \\\n",
    "                    .drop(columns=['adult', \n",
    "                                   'backdrop_path',\n",
    "                                   'poster_path',\n",
    "                                   'credit_id',])\n",
    "    \n",
    "    return director_df"
   ]
  },
  {
   "cell_type": "code",
   "execution_count": null,
   "metadata": {},
   "outputs": [],
   "source": [
    "def films_list_df(list_of_films):\n",
    "    \n",
    "    films_list = []\n",
    "\n",
    "    for film in tqdm(list_of_films):\n",
    "        entry = requests.get('https://api.themoviedb.org/3/movie/'\n",
    "                                   + str(film) \n",
    "                                   + '?api_key=' + api_key\n",
    "                                   + '&language=en-US')\n",
    "        entry = (entry.json())\n",
    "        films_list += [entry]\n",
    "        \n",
    "    df = pd.DataFrame(films_list) \\\n",
    "            .drop(columns=['adult', 'backdrop_path', 'imdb_id',\n",
    "                           'homepage', 'overview',\n",
    "                           'poster_path', 'tagline'])\n",
    "    \n",
    "    df['release_date'] = pd.to_datetime(df['release_date'])\n",
    "    \n",
    "    df = df[df['status'] == 'Released']\n",
    "    \n",
    "    df['year'] = df['release_date'].dt.year\n",
    "\n",
    "    df['decade'] = ((df.year)//10)*10\n",
    "    \n",
    "    df['budget_adj'] = df[(df['year'] != 2019) & (df['status'] == 'Released')] \\\n",
    "        .apply(lambda x: cpi.inflate(x['budget'], x['year']), axis=1)\n",
    "\n",
    "    df['revenue_adj'] = df[df['year'] != 2019] \\\n",
    "        .apply(lambda x: cpi.inflate(x['revenue'], x['year']), axis=1)\n",
    "    \n",
    "    return df"
   ]
  },
  {
   "cell_type": "code",
   "execution_count": null,
   "metadata": {},
   "outputs": [],
   "source": [
    "scorsese = director_request(directors['scorsese'])"
   ]
  },
  {
   "cell_type": "markdown",
   "metadata": {},
   "source": [
    "We want the list of films Scorsese directed. First filter those out of the dataframe, then get the list of ids."
   ]
  },
  {
   "cell_type": "code",
   "execution_count": null,
   "metadata": {},
   "outputs": [],
   "source": [
    "scorsese_list = scorsese[scorsese['job'] == 'Director']['id'].to_list()"
   ]
  },
  {
   "cell_type": "markdown",
   "metadata": {},
   "source": [
    "Run a query for each film in the list."
   ]
  },
  {
   "cell_type": "code",
   "execution_count": null,
   "metadata": {},
   "outputs": [],
   "source": [
    "scorsese_df = films_list_df(scorsese_list)"
   ]
  },
  {
   "cell_type": "code",
   "execution_count": null,
   "metadata": {},
   "outputs": [],
   "source": [
    "scorsese_df"
   ]
  },
  {
   "cell_type": "markdown",
   "metadata": {},
   "source": [
    "## Coen Bros data"
   ]
  },
  {
   "cell_type": "code",
   "execution_count": null,
   "metadata": {},
   "outputs": [],
   "source": [
    "coens = director_request(directors['coen'])"
   ]
  },
  {
   "cell_type": "code",
   "execution_count": null,
   "metadata": {},
   "outputs": [],
   "source": [
    "coens_list = coens[coens['job'] == 'Director']['id'].to_list()"
   ]
  },
  {
   "cell_type": "code",
   "execution_count": null,
   "metadata": {},
   "outputs": [],
   "source": [
    "coens_df = films_list_df(coens_list)"
   ]
  },
  {
   "cell_type": "markdown",
   "metadata": {},
   "source": [
    "## Combine directors"
   ]
  },
  {
   "cell_type": "code",
   "execution_count": null,
   "metadata": {},
   "outputs": [],
   "source": [
    "scorsese_df['director'] = 'Scorsese'"
   ]
  },
  {
   "cell_type": "code",
   "execution_count": null,
   "metadata": {},
   "outputs": [],
   "source": [
    "coens_df['director'] = 'Coens'"
   ]
  },
  {
   "cell_type": "code",
   "execution_count": null,
   "metadata": {},
   "outputs": [],
   "source": [
    "directors = pd.concat([scorsese_df, coens_df]).reset_index(drop=True)"
   ]
  },
  {
   "cell_type": "code",
   "execution_count": null,
   "metadata": {},
   "outputs": [],
   "source": [
    "with open('pickles/scorsese_coens.pkl', 'wb') as file:\n",
    "    dill.dump(directors, file)"
   ]
  },
  {
   "cell_type": "code",
   "execution_count": null,
   "metadata": {},
   "outputs": [],
   "source": [
    "directors.columns"
   ]
  },
  {
   "cell_type": "code",
   "execution_count": null,
   "metadata": {},
   "outputs": [],
   "source": [
    "directors.sort_values('year', ascending=False)"
   ]
  },
  {
   "cell_type": "markdown",
   "metadata": {},
   "source": [
    "## Plot some results"
   ]
  },
  {
   "cell_type": "code",
   "execution_count": null,
   "metadata": {},
   "outputs": [],
   "source": [
    "fig = px.scatter(directors[directors['budget']>0], x='budget', y='budget_adj',\n",
    "                 color='director', hover_name='title')\n",
    "fig.show()"
   ]
  },
  {
   "cell_type": "code",
   "execution_count": null,
   "metadata": {},
   "outputs": [],
   "source": [
    "fig = px.scatter(directors[directors['budget']>0], x='budget', y='revenue', \n",
    "                 color='director', hover_name='title')\n",
    "fig.show()"
   ]
  },
  {
   "cell_type": "code",
   "execution_count": null,
   "metadata": {},
   "outputs": [],
   "source": [
    "fig = px.box(directors[directors['budget']>0], x='decade', y='budget',\n",
    "             color='director')\n",
    "fig.show()"
   ]
  },
  {
   "cell_type": "code",
   "execution_count": null,
   "metadata": {},
   "outputs": [],
   "source": [
    "fig = px.box(directors[directors['budget']>0], x='decade', y='budget_adj',\n",
    "             color='director')\n",
    "fig.show()"
   ]
  },
  {
   "cell_type": "code",
   "execution_count": null,
   "metadata": {
    "scrolled": false
   },
   "outputs": [],
   "source": [
    "fig = px.bar(directors[directors['budget']>0], x='decade', y='budget',\n",
    "                   color='director', barmode='group')\n",
    "fig.show()"
   ]
  }
 ],
 "metadata": {
  "kernelspec": {
   "display_name": "Python 3",
   "language": "python",
   "name": "python3"
  },
  "language_info": {
   "codemirror_mode": {
    "name": "ipython",
    "version": 3
   },
   "file_extension": ".py",
   "mimetype": "text/x-python",
   "name": "python",
   "nbconvert_exporter": "python",
   "pygments_lexer": "ipython3",
   "version": "3.7.3"
  },
  "toc": {
   "base_numbering": 1,
   "nav_menu": {},
   "number_sections": true,
   "sideBar": true,
   "skip_h1_title": false,
   "title_cell": "Table of Contents",
   "title_sidebar": "Contents",
   "toc_cell": false,
   "toc_position": {
    "height": "586px",
    "left": "96px",
    "top": "110px",
    "width": "288px"
   },
   "toc_section_display": true,
   "toc_window_display": true
  }
 },
 "nbformat": 4,
 "nbformat_minor": 2
}
